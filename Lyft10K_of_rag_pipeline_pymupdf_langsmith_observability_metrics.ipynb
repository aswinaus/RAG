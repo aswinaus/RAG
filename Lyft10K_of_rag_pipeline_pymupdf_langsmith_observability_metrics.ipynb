{
  "cells": [
    {
      "cell_type": "markdown",
      "metadata": {
        "id": "view-in-github",
        "colab_type": "text"
      },
      "source": [
        "<a href=\"https://colab.research.google.com/github/aswinaus/RAG/blob/main/Lyft10K_of_rag_pipeline_pymupdf_langsmith_observability_metrics.ipynb\" target=\"_parent\"><img src=\"https://colab.research.google.com/assets/colab-badge.svg\" alt=\"Open In Colab\"/></a>"
      ]
    },
    {
      "cell_type": "code",
      "execution_count": 1,
      "metadata": {
        "id": "fXi4vN8Xz3ab"
      },
      "outputs": [],
      "source": [
        "import os"
      ]
    },
    {
      "cell_type": "code",
      "execution_count": null,
      "metadata": {
        "id": "huxDjqeWyGFU"
      },
      "outputs": [],
      "source": [
        "!pip install pdfminer.six langsmith langchain langchain_openai chromadb pypdf nest_asyncio"
      ]
    },
    {
      "cell_type": "code",
      "source": [
        "import nest_asyncio\n",
        "nest_asyncio.apply()"
      ],
      "metadata": {
        "id": "2XX889XkwvZ5"
      },
      "execution_count": 3,
      "outputs": []
    },
    {
      "cell_type": "code",
      "source": [
        "from google.colab import drive\n",
        "drive.mount('/content/drive')"
      ],
      "metadata": {
        "id": "zZEr0TKMZHpu"
      },
      "execution_count": null,
      "outputs": []
    },
    {
      "cell_type": "code",
      "execution_count": 6,
      "metadata": {
        "id": "bZGV0yQazm2m"
      },
      "outputs": [],
      "source": [
        "from pdfminer.high_level import extract_text\n",
        "\n",
        "def extract_text_from_pdf(pdf_path):\n",
        "    return extract_text(pdf_path)"
      ]
    },
    {
      "cell_type": "code",
      "source": [
        "# Download Data\n",
        "data_dir = '/content/drive/MyDrive' # Input a data dir path from your mounted Google Drive"
      ],
      "metadata": {
        "id": "c7TxMGVaZVwG"
      },
      "execution_count": 7,
      "outputs": []
    },
    {
      "cell_type": "code",
      "source": [
        "# step 1: upload a PDF to the root of the file browser\n",
        "# then change the variable below to be the name of your file\n",
        "file_name = 'uber_10k_2023'"
      ],
      "metadata": {
        "id": "kWSGCX3XV1S4"
      },
      "execution_count": 8,
      "outputs": []
    },
    {
      "cell_type": "code",
      "source": [
        "pdf_text = extract_text_from_pdf(f\"{data_dir}/RAG/data/10k/uber_10k_2023.pdf\")"
      ],
      "metadata": {
        "id": "bZPr4SpnTtv6"
      },
      "execution_count": 9,
      "outputs": []
    },
    {
      "cell_type": "code",
      "source": [
        "pdf_text.split('\\n')[0:10000]"
      ],
      "metadata": {
        "id": "x-1ewZXmUWNW"
      },
      "execution_count": null,
      "outputs": []
    },
    {
      "cell_type": "code",
      "source": [
        "! pip install langchain-community\n"
      ],
      "metadata": {
        "id": "lLYNy_cVc_tR"
      },
      "execution_count": null,
      "outputs": []
    },
    {
      "cell_type": "code",
      "source": [
        "!pip install chromadb openai"
      ],
      "metadata": {
        "id": "IrMeiAHIeCQM"
      },
      "execution_count": 12,
      "outputs": []
    },
    {
      "cell_type": "code",
      "source": [
        "import chromadb\n",
        "from langchain.embeddings import OpenAIEmbeddings"
      ],
      "metadata": {
        "id": "6CMqEHHQeRZP"
      },
      "execution_count": 13,
      "outputs": []
    },
    {
      "cell_type": "code",
      "source": [
        "from langchain.text_splitter import RecursiveCharacterTextSplitter\n",
        "from langchain_community.document_loaders import PyPDFLoader\n",
        "\n",
        "text_splitter = RecursiveCharacterTextSplitter.from_tiktoken_encoder(\n",
        "    chunk_size=300,\n",
        "    chunk_overlap=50\n",
        ")\n",
        "loader = PyPDFLoader(f\"{data_dir}/RAG/data/10k/uber_10k_2023.pdf\")\n",
        "# load_and_split uses RecursiveCharacterTextSplitter by default, but here I customize the chunk size & overlap\n",
        "pages = loader.load_and_split(text_splitter)"
      ],
      "metadata": {
        "id": "IJ03AtpqMTfr"
      },
      "execution_count": 14,
      "outputs": []
    },
    {
      "cell_type": "code",
      "source": [
        "from google.colab import userdata\n",
        "os.environ[\"OPENAI_API_KEY\"] = userdata.get('OPENAI_API_KEY')"
      ],
      "metadata": {
        "id": "hIptf7tPgJqj"
      },
      "execution_count": 15,
      "outputs": []
    },
    {
      "cell_type": "code",
      "source": [
        "# create vector store with Chroma\n",
        "from langchain_openai import OpenAIEmbeddings\n",
        "from langchain_community.vectorstores import Chroma\n",
        "from langchain_community.vectorstores.utils import filter_complex_metadata # import filter_complex_metadata\n",
        "\n",
        "openai_api_key = os.environ[\"OPENAI_API_KEY\"]\n",
        "# filtered_chunked_markdown = filter_complex_metadata(chunked_markdown)\n",
        "\n",
        "#index = Chroma.from_documents(documents=pages, embedding=OpenAIEmbeddings(openai_api_key=os.environ[\"OPENAI_API_KEY\"]))\n",
        "\n",
        "vectordb = Chroma.from_documents(documents=pages, embedding=OpenAIEmbeddings(openai_api_key=os.environ[\"OPENAI_API_KEY\"]),persist_directory=f\"{data_dir}/RAG/VectorDB/chroma_db_RAG_FOR_Evals\")\n",
        "vectordb.persist()\n",
        "retriever = vectordb.as_retriever()"
      ],
      "metadata": {
        "id": "SKiEmXKUpkw7",
        "outputId": "67439111-68e3-4aba-827e-0de1b393df4b",
        "colab": {
          "base_uri": "https://localhost:8080/"
        }
      },
      "execution_count": 16,
      "outputs": [
        {
          "output_type": "stream",
          "name": "stderr",
          "text": [
            "<ipython-input-16-f1e5b4b28159>:12: LangChainDeprecationWarning: Since Chroma 0.4.x the manual persistence method is no longer supported as docs are automatically persisted.\n",
            "  vectordb.persist()\n"
          ]
        }
      ]
    },
    {
      "cell_type": "code",
      "source": [
        "# multi-query\n",
        "from langchain.prompts import ChatPromptTemplate\n",
        "\n",
        "template = \"\"\"You are an AI language model Accounting assistant. Your task is to generate five\n",
        "different versions of the given user question to retrieve relevant documents from a vector\n",
        "database. By generating multiple perspectives on the user question, your goal is to help\n",
        "the user overcome some of the limitations of the distance-based similarity search.\n",
        "Provide these alternative questions separated by newlines. Original question: {question}\"\"\"\n",
        "prompt_perspectives = ChatPromptTemplate.from_template(template)\n",
        "\n",
        "from langchain_core.output_parsers import StrOutputParser\n",
        "from langchain_openai import ChatOpenAI\n",
        "\n",
        "generate_queries = (\n",
        "    prompt_perspectives\n",
        "    | ChatOpenAI(temperature=0, openai_api_key=openai_api_key)\n",
        "    | StrOutputParser()\n",
        "    | (lambda x: x.split(\"\\n\"))\n",
        ")"
      ],
      "metadata": {
        "id": "97K0pYTM8Vbp"
      },
      "execution_count": 17,
      "outputs": []
    },
    {
      "cell_type": "code",
      "source": [
        "questiononRevenue = \"Please summarize Financial and Operational Highlights for Uber?\""
      ],
      "metadata": {
        "id": "SO4SPXTqbrra"
      },
      "execution_count": 18,
      "outputs": []
    },
    {
      "cell_type": "code",
      "source": [
        "generate_queries.invoke(questiononRevenue)"
      ],
      "metadata": {
        "id": "dbtMR8sdbw3R",
        "outputId": "02199c75-87be-4aab-b3f0-440abe5457f2",
        "colab": {
          "base_uri": "https://localhost:8080/"
        }
      },
      "execution_count": 19,
      "outputs": [
        {
          "output_type": "execute_result",
          "data": {
            "text/plain": [
              "['1. Can you provide a summary of the Financial and Operational Highlights of Uber?',\n",
              " \"2. What are the key Financial and Operational Highlights that summarize Uber's performance?\",\n",
              " \"3. I'm interested in learning about the Financial and Operational Highlights of Uber. Can you provide a summary?\",\n",
              " '4. Could you summarize the key Financial and Operational Highlights for Uber?',\n",
              " \"5. What are the main points to know about Uber's Financial and Operational Highlights?\"]"
            ]
          },
          "metadata": {},
          "execution_count": 19
        }
      ]
    },
    {
      "cell_type": "code",
      "source": [
        "question = \"Does Uber have the liquidity to meet its working capital and capital expenditures needs.Please explain?\""
      ],
      "metadata": {
        "id": "nTcBtmM0Naox"
      },
      "execution_count": 21,
      "outputs": []
    },
    {
      "cell_type": "code",
      "source": [
        "generate_queries.invoke(question)"
      ],
      "metadata": {
        "id": "wheaWAzFAlCE",
        "outputId": "627f6545-f836-4fc3-88a9-0e964b9856e9",
        "colab": {
          "base_uri": "https://localhost:8080/"
        }
      },
      "execution_count": 22,
      "outputs": [
        {
          "output_type": "execute_result",
          "data": {
            "text/plain": [
              "['1. Can Uber meet its working capital and capital expenditures needs based on its liquidity?',\n",
              " \"2. How does Uber's liquidity position impact its ability to cover working capital and capital expenditures?\",\n",
              " \"3. Is Uber's liquidity sufficient to support its working capital and capital expenditures requirements?\",\n",
              " \"4. What is the relationship between Uber's liquidity and its ability to meet working capital and capital expenditures needs?\",\n",
              " \"5. How does Uber's liquidity position affect its capacity to fulfill working capital and capital expenditures obligations?\"]"
            ]
          },
          "metadata": {},
          "execution_count": 22
        }
      ]
    },
    {
      "cell_type": "code",
      "source": [
        "# Retrieve docs given a list of queries\n",
        "from langchain.retrievers.multi_query import MultiQueryRetriever\n",
        "from langchain_openai import ChatOpenAI\n",
        "\n",
        "llm = ChatOpenAI(temperature=0, openai_api_key=openai_api_key)\n",
        "\n",
        "#retriever = MultiQueryRetriever.from_llm(\n",
        "#    retriever=index.as_retriever(), llm=llm\n",
        "#)"
      ],
      "metadata": {
        "id": "bXJGMOQGvBj0"
      },
      "execution_count": 23,
      "outputs": []
    },
    {
      "cell_type": "code",
      "source": [
        "# Rank documents\n",
        "from langchain.load import dumps, loads\n",
        "\n",
        "def rank_documents(results: list[list], k=60):\n",
        "    fused_scores = {}\n",
        "\n",
        "    for docs in results:\n",
        "        for rank, doc in enumerate(docs):\n",
        "            doc_str = dumps(doc)\n",
        "            if doc_str not in fused_scores:\n",
        "                fused_scores[doc_str] = 0\n",
        "            previous_score = fused_scores[doc_str]\n",
        "            fused_scores[doc_str] += 1 / (rank + k)\n",
        "\n",
        "    reranked_results = [\n",
        "        (loads(doc), score)\n",
        "        for doc, score in sorted(fused_scores.items(), key=lambda x: x[1], reverse=True)\n",
        "    ]\n",
        "\n",
        "    return reranked_results\n",
        "\n",
        "retrieval_chain = generate_queries | retriever.map() | rank_documents\n",
        "docs = retrieval_chain.invoke(questiononRevenue)"
      ],
      "metadata": {
        "id": "yhPQwRDdGRsF",
        "outputId": "c6d91b78-4d01-4d73-baf8-f366877371bd",
        "colab": {
          "base_uri": "https://localhost:8080/"
        }
      },
      "execution_count": 24,
      "outputs": [
        {
          "output_type": "stream",
          "name": "stderr",
          "text": [
            "<ipython-input-24-6184b2c4ee39>:16: LangChainBetaWarning: The function `loads` is in beta. It is actively being worked on, so the API may change.\n",
            "  (loads(doc), score)\n"
          ]
        }
      ]
    },
    {
      "cell_type": "code",
      "source": [
        "docs"
      ],
      "metadata": {
        "id": "_ZjOjGUhxDAX",
        "outputId": "5bf73a74-ad16-43a3-e4c7-4c3d41eb88b1",
        "colab": {
          "base_uri": "https://localhost:8080/"
        }
      },
      "execution_count": 25,
      "outputs": [
        {
          "output_type": "execute_result",
          "data": {
            "text/plain": [
              "[(Document(metadata={'producer': 'EDGRpdf Service w/ EO.Pdf 22.0.40.0', 'total_pages': 191, 'keywords': '0001543151-24-000012; ; 10-K', 'page_label': '84', 'page': 83, 'moddate': '2024-02-15T16:33:07-05:00', 'subject': 'Form 10-K filed on 2024-02-15 for the period ending 2023-12-31', 'creator': 'EDGAR Filing HTML Converter', 'source': '/content/drive/MyDrive/RAG/data/10k/uber_10k_2023.pdf', 'title': '0001543151-24-000012', 'author': 'EDGAR® Online LLC, a subsidiary of OTC Markets Group', 'creationdate': '2024-02-15T16:32:45-05:00'}, page_content='UBER TECHNOLOGIES, INC.\\nNOTES TO CONSOLIDATED FINANCIAL STATEMENTS\\nNote 1 – Description of Business and Summary of Significant Accounting Policies\\nDescription of Business'),\n",
              "  0.016666666666666666),\n",
              " (Document(metadata={'creator': 'EDGAR Filing HTML Converter', 'page_label': '52', 'creationdate': '2024-02-15T16:32:45-05:00', 'subject': 'Form 10-K filed on 2024-02-15 for the period ending 2023-12-31', 'title': '0001543151-24-000012', 'source': '/content/drive/MyDrive/RAG/data/10k/uber_10k_2023.pdf', 'moddate': '2024-02-15T16:33:07-05:00', 'keywords': '0001543151-24-000012; ; 10-K', 'total_pages': 191, 'author': 'EDGAR® Online LLC, a subsidiary of OTC Markets Group', 'producer': 'EDGRpdf Service w/ EO.Pdf 22.0.40.0', 'page': 51}, page_content='Financial and Operational Highlights\\nYear Ended December 31,\\n(In millions, except percentages) 2022 2023 % Change % Change(Constant Currency )\\nMonthly Active Platform Consumers (“MAPCs”) 131 150 15 %\\nTrips 7,642 9,448 24 %\\nGross Bookings $ 115,395 $ 137,865 19 % 20 %\\nRevenue $ 31,877 $ 37,281 17 % 18 %\\nIncome (loss) from operations $ (1,832) $ 1,110 **\\nNet income (loss) attributable to Uber Technologies, Inc. $ (9,141) $ 1,887 **\\nAdjusted EBITDA $ 1,713 $ 4,052 137 %\\nNet cash provided by operating activities $ 642 $ 3,585 **\\nFree cash flow $ 390 $ 3,362 **\\n See the section titled “Reconciliations of Non-GAAP Financial Measures” for more information and reconciliations to the most directly comparable GAAPfinancial measure.\\n See the section titled “Certain Key Metrics and Non-GAAP Financial Measures” below for more information.\\n MAPCs presented for annual periods are MAPCs for the fourth quarter of the year.'),\n",
              "  0.016666666666666666),\n",
              " (Document(metadata={'page': 83, 'producer': 'EDGRpdf Service w/ EO.Pdf 22.0.40.0', 'moddate': '2024-02-15T16:33:07-05:00', 'title': '0001543151-24-000012', 'creator': 'EDGAR Filing HTML Converter', 'subject': 'Form 10-K filed on 2024-02-15 for the period ending 2023-12-31', 'total_pages': 191, 'creationdate': '2024-02-15T16:32:45-05:00', 'page_label': '84', 'source': '/content/drive/MyDrive/RAG/data/10k/uber_10k_2023.pdf', 'keywords': '0001543151-24-000012; ; 10-K', 'author': 'EDGAR® Online LLC, a subsidiary of OTC Markets Group'}, page_content='UBER TECHNOLOGIES, INC.\\nNOTES TO CONSOLIDATED FINANCIAL STATEMENTS\\nNote 1 – Description of Business and Summary of Significant Accounting Policies\\nDescription of Business'),\n",
              "  0.016666666666666666),\n",
              " (Document(metadata={'page': 51, 'page_label': '52', 'author': 'EDGAR® Online LLC, a subsidiary of OTC Markets Group', 'creationdate': '2024-02-15T16:32:45-05:00', 'title': '0001543151-24-000012', 'producer': 'EDGRpdf Service w/ EO.Pdf 22.0.40.0', 'keywords': '0001543151-24-000012; ; 10-K', 'subject': 'Form 10-K filed on 2024-02-15 for the period ending 2023-12-31', 'creator': 'EDGAR Filing HTML Converter', 'source': '/content/drive/MyDrive/RAG/data/10k/uber_10k_2023.pdf', 'total_pages': 191, 'moddate': '2024-02-15T16:33:07-05:00'}, page_content='Financial and Operational Highlights\\nYear Ended December 31,\\n(In millions, except percentages) 2022 2023 % Change % Change(Constant Currency )\\nMonthly Active Platform Consumers (“MAPCs”) 131 150 15 %\\nTrips 7,642 9,448 24 %\\nGross Bookings $ 115,395 $ 137,865 19 % 20 %\\nRevenue $ 31,877 $ 37,281 17 % 18 %\\nIncome (loss) from operations $ (1,832) $ 1,110 **\\nNet income (loss) attributable to Uber Technologies, Inc. $ (9,141) $ 1,887 **\\nAdjusted EBITDA $ 1,713 $ 4,052 137 %\\nNet cash provided by operating activities $ 642 $ 3,585 **\\nFree cash flow $ 390 $ 3,362 **\\n See the section titled “Reconciliations of Non-GAAP Financial Measures” for more information and reconciliations to the most directly comparable GAAPfinancial measure.\\n See the section titled “Certain Key Metrics and Non-GAAP Financial Measures” below for more information.\\n MAPCs presented for annual periods are MAPCs for the fourth quarter of the year.'),\n",
              "  0.016666666666666666),\n",
              " (Document(metadata={'keywords': '0001543151-24-000012; ; 10-K', 'total_pages': 191, 'creator': 'EDGAR Filing HTML Converter', 'page_label': '51', 'author': 'EDGAR® Online LLC, a subsidiary of OTC Markets Group', 'subject': 'Form 10-K filed on 2024-02-15 for the period ending 2023-12-31', 'producer': 'EDGRpdf Service w/ EO.Pdf 22.0.40.0', 'source': '/content/drive/MyDrive/RAG/data/10k/uber_10k_2023.pdf', 'title': '0001543151-24-000012', 'page': 50, 'moddate': '2024-02-15T16:33:07-05:00', 'creationdate': '2024-02-15T16:32:45-05:00'}, page_content='In addition to our historical consolidated financial information, the following discussion contains forward-looking statements that reflect our plans, estimates,and beliefs. Our actual results could differ materially from those discussed in the forward-looking statements. You should review the sections titled “Special NoteRegarding Forward-Looking Statements” for a discussion of forward-looking statements and in Part I, Item 1A, “Risk Factors”, for a discussion of factors thatcould cause actual results to differ materially from the results described in or implied by the forward-looking statements contained in the following discussion andanalysis and elsewhere in this Annual Report on Form 10-K.\\nOverview\\nWe are a technology platform that uses a massive network, leading technology, operational excellence, and product expertise to power movement from point Ato point B. We develop and operate proprietary technology applications supporting a variety of offerings on our platform. We connect consumers with providers ofride services, merchants as well as delivery service providers for meal preparation, grocery and other delivery services. Uber also connects consumers with publictransportation networks. We use this same network, technology, operational excellence, and product expertise to connect Shippers with Carriers in the freightindustry by providing Carriers with the ability to book a shipment, transportation management and other logistics services. We are also developing technologiesdesigned to provide new solutions to solve everyday problems.\\nDriver Classification Developments'),\n",
              "  0.016666666666666666),\n",
              " (Document(metadata={'producer': 'EDGRpdf Service w/ EO.Pdf 22.0.40.0', 'creationdate': '2024-02-15T16:32:45-05:00', 'subject': 'Form 10-K filed on 2024-02-15 for the period ending 2023-12-31', 'author': 'EDGAR® Online LLC, a subsidiary of OTC Markets Group', 'page': 83, 'page_label': '84', 'total_pages': 191, 'creator': 'EDGAR Filing HTML Converter', 'moddate': '2024-02-15T16:33:07-05:00', 'title': '0001543151-24-000012', 'source': '/content/drive/MyDrive/RAG/data/10k/uber_10k_2023.pdf', 'keywords': '0001543151-24-000012; ; 10-K'}, page_content='UBER TECHNOLOGIES, INC.\\nNOTES TO CONSOLIDATED FINANCIAL STATEMENTS\\nNote 1 – Description of Business and Summary of Significant Accounting Policies\\nDescription of Business'),\n",
              "  0.01639344262295082),\n",
              " (Document(metadata={'total_pages': 191, 'title': '0001543151-24-000012', 'keywords': '0001543151-24-000012; ; 10-K', 'moddate': '2024-02-15T16:33:07-05:00', 'page_label': '52', 'subject': 'Form 10-K filed on 2024-02-15 for the period ending 2023-12-31', 'producer': 'EDGRpdf Service w/ EO.Pdf 22.0.40.0', 'creator': 'EDGAR Filing HTML Converter', 'creationdate': '2024-02-15T16:32:45-05:00', 'source': '/content/drive/MyDrive/RAG/data/10k/uber_10k_2023.pdf', 'author': 'EDGAR® Online LLC, a subsidiary of OTC Markets Group', 'page': 51}, page_content='Financial and Operational Highlights\\nYear Ended December 31,\\n(In millions, except percentages) 2022 2023 % Change % Change(Constant Currency )\\nMonthly Active Platform Consumers (“MAPCs”) 131 150 15 %\\nTrips 7,642 9,448 24 %\\nGross Bookings $ 115,395 $ 137,865 19 % 20 %\\nRevenue $ 31,877 $ 37,281 17 % 18 %\\nIncome (loss) from operations $ (1,832) $ 1,110 **\\nNet income (loss) attributable to Uber Technologies, Inc. $ (9,141) $ 1,887 **\\nAdjusted EBITDA $ 1,713 $ 4,052 137 %\\nNet cash provided by operating activities $ 642 $ 3,585 **\\nFree cash flow $ 390 $ 3,362 **\\n See the section titled “Reconciliations of Non-GAAP Financial Measures” for more information and reconciliations to the most directly comparable GAAPfinancial measure.\\n See the section titled “Certain Key Metrics and Non-GAAP Financial Measures” below for more information.\\n MAPCs presented for annual periods are MAPCs for the fourth quarter of the year.'),\n",
              "  0.01639344262295082),\n",
              " (Document(metadata={'subject': 'Form 10-K filed on 2024-02-15 for the period ending 2023-12-31', 'keywords': '0001543151-24-000012; ; 10-K', 'author': 'EDGAR® Online LLC, a subsidiary of OTC Markets Group', 'source': '/content/drive/MyDrive/RAG/data/10k/uber_10k_2023.pdf', 'moddate': '2024-02-15T16:33:07-05:00', 'title': '0001543151-24-000012', 'creationdate': '2024-02-15T16:32:45-05:00', 'producer': 'EDGRpdf Service w/ EO.Pdf 22.0.40.0', 'page_label': '84', 'creator': 'EDGAR Filing HTML Converter', 'page': 83, 'total_pages': 191}, page_content='UBER TECHNOLOGIES, INC.\\nNOTES TO CONSOLIDATED FINANCIAL STATEMENTS\\nNote 1 – Description of Business and Summary of Significant Accounting Policies\\nDescription of Business'),\n",
              "  0.01639344262295082),\n",
              " (Document(metadata={'source': '/content/drive/MyDrive/RAG/data/10k/uber_10k_2023.pdf', 'moddate': '2024-02-15T16:33:07-05:00', 'creationdate': '2024-02-15T16:32:45-05:00', 'creator': 'EDGAR Filing HTML Converter', 'producer': 'EDGRpdf Service w/ EO.Pdf 22.0.40.0', 'title': '0001543151-24-000012', 'page': 51, 'total_pages': 191, 'page_label': '52', 'keywords': '0001543151-24-000012; ; 10-K', 'author': 'EDGAR® Online LLC, a subsidiary of OTC Markets Group', 'subject': 'Form 10-K filed on 2024-02-15 for the period ending 2023-12-31'}, page_content='Financial and Operational Highlights\\nYear Ended December 31,\\n(In millions, except percentages) 2022 2023 % Change % Change(Constant Currency )\\nMonthly Active Platform Consumers (“MAPCs”) 131 150 15 %\\nTrips 7,642 9,448 24 %\\nGross Bookings $ 115,395 $ 137,865 19 % 20 %\\nRevenue $ 31,877 $ 37,281 17 % 18 %\\nIncome (loss) from operations $ (1,832) $ 1,110 **\\nNet income (loss) attributable to Uber Technologies, Inc. $ (9,141) $ 1,887 **\\nAdjusted EBITDA $ 1,713 $ 4,052 137 %\\nNet cash provided by operating activities $ 642 $ 3,585 **\\nFree cash flow $ 390 $ 3,362 **\\n See the section titled “Reconciliations of Non-GAAP Financial Measures” for more information and reconciliations to the most directly comparable GAAPfinancial measure.\\n See the section titled “Certain Key Metrics and Non-GAAP Financial Measures” below for more information.\\n MAPCs presented for annual periods are MAPCs for the fourth quarter of the year.'),\n",
              "  0.01639344262295082),\n",
              " (Document(metadata={'source': '/content/drive/MyDrive/RAG/data/10k/uber_10k_2023.pdf', 'moddate': '2024-02-15T16:33:07-05:00', 'page': 50, 'creator': 'EDGAR Filing HTML Converter', 'author': 'EDGAR® Online LLC, a subsidiary of OTC Markets Group', 'subject': 'Form 10-K filed on 2024-02-15 for the period ending 2023-12-31', 'creationdate': '2024-02-15T16:32:45-05:00', 'producer': 'EDGRpdf Service w/ EO.Pdf 22.0.40.0', 'keywords': '0001543151-24-000012; ; 10-K', 'page_label': '51', 'total_pages': 191, 'title': '0001543151-24-000012'}, page_content='In addition to our historical consolidated financial information, the following discussion contains forward-looking statements that reflect our plans, estimates,and beliefs. Our actual results could differ materially from those discussed in the forward-looking statements. You should review the sections titled “Special NoteRegarding Forward-Looking Statements” for a discussion of forward-looking statements and in Part I, Item 1A, “Risk Factors”, for a discussion of factors thatcould cause actual results to differ materially from the results described in or implied by the forward-looking statements contained in the following discussion andanalysis and elsewhere in this Annual Report on Form 10-K.\\nOverview\\nWe are a technology platform that uses a massive network, leading technology, operational excellence, and product expertise to power movement from point Ato point B. We develop and operate proprietary technology applications supporting a variety of offerings on our platform. We connect consumers with providers ofride services, merchants as well as delivery service providers for meal preparation, grocery and other delivery services. Uber also connects consumers with publictransportation networks. We use this same network, technology, operational excellence, and product expertise to connect Shippers with Carriers in the freightindustry by providing Carriers with the ability to book a shipment, transportation management and other logistics services. We are also developing technologiesdesigned to provide new solutions to solve everyday problems.\\nDriver Classification Developments'),\n",
              "  0.01639344262295082),\n",
              " (Document(metadata={'page': 50, 'total_pages': 191, 'subject': 'Form 10-K filed on 2024-02-15 for the period ending 2023-12-31', 'producer': 'EDGRpdf Service w/ EO.Pdf 22.0.40.0', 'creator': 'EDGAR Filing HTML Converter', 'author': 'EDGAR® Online LLC, a subsidiary of OTC Markets Group', 'title': '0001543151-24-000012', 'page_label': '51', 'creationdate': '2024-02-15T16:32:45-05:00', 'moddate': '2024-02-15T16:33:07-05:00', 'source': '/content/drive/MyDrive/RAG/data/10k/uber_10k_2023.pdf', 'keywords': '0001543151-24-000012; ; 10-K'}, page_content='In addition to our historical consolidated financial information, the following discussion contains forward-looking statements that reflect our plans, estimates,and beliefs. Our actual results could differ materially from those discussed in the forward-looking statements. You should review the sections titled “Special NoteRegarding Forward-Looking Statements” for a discussion of forward-looking statements and in Part I, Item 1A, “Risk Factors”, for a discussion of factors thatcould cause actual results to differ materially from the results described in or implied by the forward-looking statements contained in the following discussion andanalysis and elsewhere in this Annual Report on Form 10-K.\\nOverview\\nWe are a technology platform that uses a massive network, leading technology, operational excellence, and product expertise to power movement from point Ato point B. We develop and operate proprietary technology applications supporting a variety of offerings on our platform. We connect consumers with providers ofride services, merchants as well as delivery service providers for meal preparation, grocery and other delivery services. Uber also connects consumers with publictransportation networks. We use this same network, technology, operational excellence, and product expertise to connect Shippers with Carriers in the freightindustry by providing Carriers with the ability to book a shipment, transportation management and other logistics services. We are also developing technologiesdesigned to provide new solutions to solve everyday problems.\\nDriver Classification Developments'),\n",
              "  0.016129032258064516),\n",
              " (Document(metadata={'title': '0001543151-24-000012', 'page': 50, 'moddate': '2024-02-15T16:33:07-05:00', 'author': 'EDGAR® Online LLC, a subsidiary of OTC Markets Group', 'page_label': '51', 'producer': 'EDGRpdf Service w/ EO.Pdf 22.0.40.0', 'total_pages': 191, 'creator': 'EDGAR Filing HTML Converter', 'creationdate': '2024-02-15T16:32:45-05:00', 'source': '/content/drive/MyDrive/RAG/data/10k/uber_10k_2023.pdf', 'keywords': '0001543151-24-000012; ; 10-K', 'subject': 'Form 10-K filed on 2024-02-15 for the period ending 2023-12-31'}, page_content='In addition to our historical consolidated financial information, the following discussion contains forward-looking statements that reflect our plans, estimates,and beliefs. Our actual results could differ materially from those discussed in the forward-looking statements. You should review the sections titled “Special NoteRegarding Forward-Looking Statements” for a discussion of forward-looking statements and in Part I, Item 1A, “Risk Factors”, for a discussion of factors thatcould cause actual results to differ materially from the results described in or implied by the forward-looking statements contained in the following discussion andanalysis and elsewhere in this Annual Report on Form 10-K.\\nOverview\\nWe are a technology platform that uses a massive network, leading technology, operational excellence, and product expertise to power movement from point Ato point B. We develop and operate proprietary technology applications supporting a variety of offerings on our platform. We connect consumers with providers ofride services, merchants as well as delivery service providers for meal preparation, grocery and other delivery services. Uber also connects consumers with publictransportation networks. We use this same network, technology, operational excellence, and product expertise to connect Shippers with Carriers in the freightindustry by providing Carriers with the ability to book a shipment, transportation management and other logistics services. We are also developing technologiesdesigned to provide new solutions to solve everyday problems.\\nDriver Classification Developments'),\n",
              "  0.016129032258064516),\n",
              " (Document(metadata={'keywords': '0001543151-24-000012; ; 10-K', 'page': 50, 'title': '0001543151-24-000012', 'creator': 'EDGAR Filing HTML Converter', 'total_pages': 191, 'moddate': '2024-02-15T16:33:07-05:00', 'source': '/content/drive/MyDrive/RAG/data/10k/uber_10k_2023.pdf', 'creationdate': '2024-02-15T16:32:45-05:00', 'producer': 'EDGRpdf Service w/ EO.Pdf 22.0.40.0', 'author': 'EDGAR® Online LLC, a subsidiary of OTC Markets Group', 'subject': 'Form 10-K filed on 2024-02-15 for the period ending 2023-12-31', 'page_label': '51'}, page_content='In addition to our historical consolidated financial information, the following discussion contains forward-looking statements that reflect our plans, estimates,and beliefs. Our actual results could differ materially from those discussed in the forward-looking statements. You should review the sections titled “Special NoteRegarding Forward-Looking Statements” for a discussion of forward-looking statements and in Part I, Item 1A, “Risk Factors”, for a discussion of factors thatcould cause actual results to differ materially from the results described in or implied by the forward-looking statements contained in the following discussion andanalysis and elsewhere in this Annual Report on Form 10-K.\\nOverview\\nWe are a technology platform that uses a massive network, leading technology, operational excellence, and product expertise to power movement from point Ato point B. We develop and operate proprietary technology applications supporting a variety of offerings on our platform. We connect consumers with providers ofride services, merchants as well as delivery service providers for meal preparation, grocery and other delivery services. Uber also connects consumers with publictransportation networks. We use this same network, technology, operational excellence, and product expertise to connect Shippers with Carriers in the freightindustry by providing Carriers with the ability to book a shipment, transportation management and other logistics services. We are also developing technologiesdesigned to provide new solutions to solve everyday problems.\\nDriver Classification Developments'),\n",
              "  0.016129032258064516),\n",
              " (Document(metadata={'title': '0001543151-24-000012', 'producer': 'EDGRpdf Service w/ EO.Pdf 22.0.40.0', 'page_label': '51', 'page': 50, 'keywords': '0001543151-24-000012; ; 10-K', 'subject': 'Form 10-K filed on 2024-02-15 for the period ending 2023-12-31', 'creationdate': '2024-02-15T16:32:45-05:00', 'moddate': '2024-02-15T16:33:07-05:00', 'creator': 'EDGAR Filing HTML Converter', 'source': '/content/drive/MyDrive/RAG/data/10k/uber_10k_2023.pdf', 'total_pages': 191, 'author': 'EDGAR® Online LLC, a subsidiary of OTC Markets Group'}, page_content='In addition to our historical consolidated financial information, the following discussion contains forward-looking statements that reflect our plans, estimates,and beliefs. Our actual results could differ materially from those discussed in the forward-looking statements. You should review the sections titled “Special NoteRegarding Forward-Looking Statements” for a discussion of forward-looking statements and in Part I, Item 1A, “Risk Factors”, for a discussion of factors thatcould cause actual results to differ materially from the results described in or implied by the forward-looking statements contained in the following discussion andanalysis and elsewhere in this Annual Report on Form 10-K.\\nOverview\\nWe are a technology platform that uses a massive network, leading technology, operational excellence, and product expertise to power movement from point Ato point B. We develop and operate proprietary technology applications supporting a variety of offerings on our platform. We connect consumers with providers ofride services, merchants as well as delivery service providers for meal preparation, grocery and other delivery services. Uber also connects consumers with publictransportation networks. We use this same network, technology, operational excellence, and product expertise to connect Shippers with Carriers in the freightindustry by providing Carriers with the ability to book a shipment, transportation management and other logistics services. We are also developing technologiesdesigned to provide new solutions to solve everyday problems.\\nDriver Classification Developments'),\n",
              "  0.016129032258064516),\n",
              " (Document(metadata={'title': '0001543151-24-000012', 'subject': 'Form 10-K filed on 2024-02-15 for the period ending 2023-12-31', 'moddate': '2024-02-15T16:33:07-05:00', 'creationdate': '2024-02-15T16:32:45-05:00', 'source': '/content/drive/MyDrive/RAG/data/10k/uber_10k_2023.pdf', 'keywords': '0001543151-24-000012; ; 10-K', 'page': 83, 'producer': 'EDGRpdf Service w/ EO.Pdf 22.0.40.0', 'total_pages': 191, 'creator': 'EDGAR Filing HTML Converter', 'page_label': '84', 'author': 'EDGAR® Online LLC, a subsidiary of OTC Markets Group'}, page_content='UBER TECHNOLOGIES, INC.\\nNOTES TO CONSOLIDATED FINANCIAL STATEMENTS\\nNote 1 – Description of Business and Summary of Significant Accounting Policies\\nDescription of Business'),\n",
              "  0.016129032258064516),\n",
              " (Document(metadata={'producer': 'EDGRpdf Service w/ EO.Pdf 22.0.40.0', 'moddate': '2024-02-15T16:33:07-05:00', 'subject': 'Form 10-K filed on 2024-02-15 for the period ending 2023-12-31', 'creator': 'EDGAR Filing HTML Converter', 'total_pages': 191, 'page_label': '51', 'page': 50, 'creationdate': '2024-02-15T16:32:45-05:00', 'keywords': '0001543151-24-000012; ; 10-K', 'author': 'EDGAR® Online LLC, a subsidiary of OTC Markets Group', 'source': '/content/drive/MyDrive/RAG/data/10k/uber_10k_2023.pdf', 'title': '0001543151-24-000012'}, page_content='In addition to our historical consolidated financial information, the following discussion contains forward-looking statements that reflect our plans, estimates,and beliefs. Our actual results could differ materially from those discussed in the forward-looking statements. You should review the sections titled “Special NoteRegarding Forward-Looking Statements” for a discussion of forward-looking statements and in Part I, Item 1A, “Risk Factors”, for a discussion of factors thatcould cause actual results to differ materially from the results described in or implied by the forward-looking statements contained in the following discussion andanalysis and elsewhere in this Annual Report on Form 10-K.\\nOverview\\nWe are a technology platform that uses a massive network, leading technology, operational excellence, and product expertise to power movement from point Ato point B. We develop and operate proprietary technology applications supporting a variety of offerings on our platform. We connect consumers with providers ofride services, merchants as well as delivery service providers for meal preparation, grocery and other delivery services. Uber also connects consumers with publictransportation networks. We use this same network, technology, operational excellence, and product expertise to connect Shippers with Carriers in the freightindustry by providing Carriers with the ability to book a shipment, transportation management and other logistics services. We are also developing technologiesdesigned to provide new solutions to solve everyday problems.\\nDriver Classification Developments'),\n",
              "  0.015873015873015872),\n",
              " (Document(metadata={'title': '0001543151-24-000012', 'creator': 'EDGAR Filing HTML Converter', 'page': 50, 'total_pages': 191, 'subject': 'Form 10-K filed on 2024-02-15 for the period ending 2023-12-31', 'producer': 'EDGRpdf Service w/ EO.Pdf 22.0.40.0', 'author': 'EDGAR® Online LLC, a subsidiary of OTC Markets Group', 'keywords': '0001543151-24-000012; ; 10-K', 'source': '/content/drive/MyDrive/RAG/data/10k/uber_10k_2023.pdf', 'page_label': '51', 'creationdate': '2024-02-15T16:32:45-05:00', 'moddate': '2024-02-15T16:33:07-05:00'}, page_content='In addition to our historical consolidated financial information, the following discussion contains forward-looking statements that reflect our plans, estimates,and beliefs. Our actual results could differ materially from those discussed in the forward-looking statements. You should review the sections titled “Special NoteRegarding Forward-Looking Statements” for a discussion of forward-looking statements and in Part I, Item 1A, “Risk Factors”, for a discussion of factors thatcould cause actual results to differ materially from the results described in or implied by the forward-looking statements contained in the following discussion andanalysis and elsewhere in this Annual Report on Form 10-K.\\nOverview\\nWe are a technology platform that uses a massive network, leading technology, operational excellence, and product expertise to power movement from point Ato point B. We develop and operate proprietary technology applications supporting a variety of offerings on our platform. We connect consumers with providers ofride services, merchants as well as delivery service providers for meal preparation, grocery and other delivery services. Uber also connects consumers with publictransportation networks. We use this same network, technology, operational excellence, and product expertise to connect Shippers with Carriers in the freightindustry by providing Carriers with the ability to book a shipment, transportation management and other logistics services. We are also developing technologiesdesigned to provide new solutions to solve everyday problems.\\nDriver Classification Developments'),\n",
              "  0.015873015873015872),\n",
              " (Document(metadata={'creationdate': '2024-02-15T16:32:45-05:00', 'subject': 'Form 10-K filed on 2024-02-15 for the period ending 2023-12-31', 'keywords': '0001543151-24-000012; ; 10-K', 'moddate': '2024-02-15T16:33:07-05:00', 'creator': 'EDGAR Filing HTML Converter', 'page': 50, 'producer': 'EDGRpdf Service w/ EO.Pdf 22.0.40.0', 'total_pages': 191, 'title': '0001543151-24-000012', 'source': '/content/drive/MyDrive/RAG/data/10k/uber_10k_2023.pdf', 'page_label': '51', 'author': 'EDGAR® Online LLC, a subsidiary of OTC Markets Group'}, page_content='In addition to our historical consolidated financial information, the following discussion contains forward-looking statements that reflect our plans, estimates,and beliefs. Our actual results could differ materially from those discussed in the forward-looking statements. You should review the sections titled “Special NoteRegarding Forward-Looking Statements” for a discussion of forward-looking statements and in Part I, Item 1A, “Risk Factors”, for a discussion of factors thatcould cause actual results to differ materially from the results described in or implied by the forward-looking statements contained in the following discussion andanalysis and elsewhere in this Annual Report on Form 10-K.\\nOverview\\nWe are a technology platform that uses a massive network, leading technology, operational excellence, and product expertise to power movement from point Ato point B. We develop and operate proprietary technology applications supporting a variety of offerings on our platform. We connect consumers with providers ofride services, merchants as well as delivery service providers for meal preparation, grocery and other delivery services. Uber also connects consumers with publictransportation networks. We use this same network, technology, operational excellence, and product expertise to connect Shippers with Carriers in the freightindustry by providing Carriers with the ability to book a shipment, transportation management and other logistics services. We are also developing technologiesdesigned to provide new solutions to solve everyday problems.\\nDriver Classification Developments'),\n",
              "  0.015873015873015872),\n",
              " (Document(metadata={'author': 'EDGAR® Online LLC, a subsidiary of OTC Markets Group', 'moddate': '2024-02-15T16:33:07-05:00', 'producer': 'EDGRpdf Service w/ EO.Pdf 22.0.40.0', 'page_label': '51', 'title': '0001543151-24-000012', 'source': '/content/drive/MyDrive/RAG/data/10k/uber_10k_2023.pdf', 'keywords': '0001543151-24-000012; ; 10-K', 'total_pages': 191, 'creator': 'EDGAR Filing HTML Converter', 'page': 50, 'subject': 'Form 10-K filed on 2024-02-15 for the period ending 2023-12-31', 'creationdate': '2024-02-15T16:32:45-05:00'}, page_content='In addition to our historical consolidated financial information, the following discussion contains forward-looking statements that reflect our plans, estimates,and beliefs. Our actual results could differ materially from those discussed in the forward-looking statements. You should review the sections titled “Special NoteRegarding Forward-Looking Statements” for a discussion of forward-looking statements and in Part I, Item 1A, “Risk Factors”, for a discussion of factors thatcould cause actual results to differ materially from the results described in or implied by the forward-looking statements contained in the following discussion andanalysis and elsewhere in this Annual Report on Form 10-K.\\nOverview\\nWe are a technology platform that uses a massive network, leading technology, operational excellence, and product expertise to power movement from point Ato point B. We develop and operate proprietary technology applications supporting a variety of offerings on our platform. We connect consumers with providers ofride services, merchants as well as delivery service providers for meal preparation, grocery and other delivery services. Uber also connects consumers with publictransportation networks. We use this same network, technology, operational excellence, and product expertise to connect Shippers with Carriers in the freightindustry by providing Carriers with the ability to book a shipment, transportation management and other logistics services. We are also developing technologiesdesigned to provide new solutions to solve everyday problems.\\nDriver Classification Developments'),\n",
              "  0.015873015873015872),\n",
              " (Document(metadata={'author': 'EDGAR® Online LLC, a subsidiary of OTC Markets Group', 'keywords': '0001543151-24-000012; ; 10-K', 'producer': 'EDGRpdf Service w/ EO.Pdf 22.0.40.0', 'moddate': '2024-02-15T16:33:07-05:00', 'title': '0001543151-24-000012', 'creator': 'EDGAR Filing HTML Converter', 'source': '/content/drive/MyDrive/RAG/data/10k/uber_10k_2023.pdf', 'subject': 'Form 10-K filed on 2024-02-15 for the period ending 2023-12-31', 'creationdate': '2024-02-15T16:32:45-05:00', 'page': 83, 'page_label': '84', 'total_pages': 191}, page_content='UBER TECHNOLOGIES, INC.\\nNOTES TO CONSOLIDATED FINANCIAL STATEMENTS\\nNote 1 – Description of Business and Summary of Significant Accounting Policies\\nDescription of Business'),\n",
              "  0.015873015873015872)]"
            ]
          },
          "metadata": {},
          "execution_count": 25
        }
      ]
    },
    {
      "cell_type": "code",
      "source": [
        "#Creating a RAG Pipeline\n",
        "from operator import itemgetter\n",
        "from langchain_core.runnables import RunnablePassthrough\n",
        "\n",
        "\n",
        "# RAG\n",
        "template = \"\"\"Answer the following question based on this context:\n",
        "\n",
        "{context}\n",
        "\n",
        "Question: {question}\n",
        "\"\"\"\n",
        "\n",
        "prompt = ChatPromptTemplate.from_template(template)\n",
        "\n",
        "\n",
        "llm = ChatOpenAI(temperature=0, openai_api_key=openai_api_key)\n",
        "\n",
        "# Chain\n",
        "final_rag_chain = (\n",
        "    {\"context\": retrieval_chain, \"question\": RunnablePassthrough()}\n",
        "    | prompt\n",
        "    | llm\n",
        "    | StrOutputParser()\n",
        ")\n",
        "\n",
        "final_rag_chain.invoke({\"question\":question})"
      ],
      "metadata": {
        "id": "PqRt164pUbYg",
        "outputId": "15efc625-4b47-487f-d3e3-86baaf6bda1a",
        "colab": {
          "base_uri": "https://localhost:8080/",
          "height": 108
        }
      },
      "execution_count": 26,
      "outputs": [
        {
          "output_type": "execute_result",
          "data": {
            "text/plain": [
              "\"Based on the provided context, Uber's liquidity can be assessed by looking at its balance sheet. The total assets for Uber as of December 31, 2023, were $38,699 million, while the total liabilities, redeemable non-controlling interests, and equity were $32,109 million. This indicates that Uber has a total equity of $6,590 million ($38,699 - $32,109), which can be used to meet its working capital and capital expenditures needs.\\n\\nAdditionally, Uber had cash and cash equivalents of $4,680 million, short-term investments of $727 million, and other current assets totaling $1,681 million, which can further contribute to its liquidity position.\\n\\nIn conclusion, based on the information provided in the balance sheet, Uber appears to have the liquidity to meet its working capital and capital expenditures needs.\""
            ],
            "application/vnd.google.colaboratory.intrinsic+json": {
              "type": "string"
            }
          },
          "metadata": {},
          "execution_count": 26
        }
      ]
    },
    {
      "cell_type": "code",
      "source": [
        "os.environ[\"LANGSMITH_TRACING\"]=\"true\"\n",
        "os.environ[\"LANGSMITH_ENDPOINT\"]=\"https://api.smith.langchain.com\"\n",
        "os.environ[\"LANGSMITH_API_KEY\"]=userdata.get('LANGSMITH_OBSERVABILITY')\n",
        "os.environ[\"LANGSMITH_PROJECT\"]=\"pr-aching-print-50\"\n",
        "os.environ[\"OPENAI_API_KEY\"]=userdata.get('OPENAI_API_KEY')"
      ],
      "metadata": {
        "id": "qnbeNXz_Z9kk"
      },
      "execution_count": 32,
      "outputs": []
    },
    {
      "cell_type": "code",
      "source": [
        "import os\n",
        "print(f\"LANGSMITH_TRACING: {os.environ.get('LANGSMITH_TRACING')}\")\n",
        "print(f\"LANGSMITH_ENDPOINT: {os.environ.get('LANGSMITH_ENDPOINT')}\")\n",
        "print(f\"LANGSMITH_API_KEY: {os.environ.get('LANGSMITH_API_KEY')}\")\n",
        "print(f\"LANGSMITH_PROJECT: {os.environ.get('LANGSMITH_PROJECT')}\")"
      ],
      "metadata": {
        "id": "gu_7tDjac_hh",
        "outputId": "18cf66bb-215a-49ef-8247-124d8b5a3d53",
        "colab": {
          "base_uri": "https://localhost:8080/"
        }
      },
      "execution_count": 33,
      "outputs": [
        {
          "output_type": "stream",
          "name": "stdout",
          "text": [
            "LANGSMITH_TRACING: true\n",
            "LANGSMITH_ENDPOINT: https://api.smith.langchain.com\n",
            "LANGSMITH_API_KEY: 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\n",
            "LANGSMITH_PROJECT: pr-aching-print-50\n"
          ]
        }
      ]
    },
    {
      "cell_type": "code",
      "source": [
        "LANGSMITH_TRACING=True\n",
        "LANGSMITH_ENDPOINT=\"https://api.smith.langchain.com\"\n",
        "LANGSMITH_API_KEY=userdata.get('LANGSMITH_OBSERVABILITY')\n",
        "LANGSMITH_PROJECT=\"pr-sparkling-mustache-32\"\n",
        "OPENAI_API_KEY=userdata.get('OPENAI_API_KEY')"
      ],
      "metadata": {
        "id": "Pb4mQBo4gHug"
      },
      "execution_count": 34,
      "outputs": []
    },
    {
      "cell_type": "code",
      "source": [
        "from langsmith import Client, traceable\n",
        "import openai\n",
        "from langchain.llms import OpenAI\n",
        "\n",
        "client = Client() # replace with your api key if you don't have environment variables set\n",
        "\n",
        "@traceable(run_type=\"chain\")  # or client=client, if you don't have environment variables set\n",
        "def run_llm(prompt: str):\n",
        "    llm = OpenAI()  # or any other llm you want to test with\n",
        "    return llm(prompt)\n",
        "\n",
        "run_llm(\"what is the meaning of life in the context of an IT Engineer and how will that change in the AI world in future?\")"
      ],
      "metadata": {
        "id": "OLtdKouXfg_-",
        "outputId": "d717e07c-6b6e-4df5-ae1d-3fba1e46a606",
        "colab": {
          "base_uri": "https://localhost:8080/",
          "height": 90
        }
      },
      "execution_count": 35,
      "outputs": [
        {
          "output_type": "execute_result",
          "data": {
            "text/plain": [
              "'\\n\\nThe meaning of life is a philosophical question that has been debated by many throughout history. It refers to the purpose or significance of human existence. Some believe that the meaning of life is to find happiness and fulfillment, while others think it is to fulfill a specific destiny or follow a set of moral principles. Some religious beliefs suggest that the meaning of life is to serve a higher power or to achieve enlightenment. Ultimately, the meaning of life may differ for each individual and can be shaped by personal beliefs, experiences, and values.'"
            ],
            "application/vnd.google.colaboratory.intrinsic+json": {
              "type": "string"
            }
          },
          "metadata": {},
          "execution_count": 35
        }
      ]
    },
    {
      "cell_type": "code",
      "source": [
        "import openai\n",
        "from langsmith.wrappers import wrap_openai\n",
        "from langsmith import traceable\n",
        "from langchain.prompts import ChatPromptTemplate\n",
        "from langchain_core.output_parsers import StrOutputParser\n",
        "from langchain_openai import ChatOpenAI\n",
        "from langchain.retrievers.multi_query import MultiQueryRetriever\n",
        "from langchain.load import dumps, loads\n",
        "from operator import itemgetter\n",
        "from langchain_core.runnables import RunnablePassthrough\n",
        "\n",
        "# Auto-trace LLM calls in-context\n",
        "client = wrap_openai(openai.Client())\n",
        "\n",
        "@traceable # Auto-trace this function\n",
        "def pipeline(user_input: str):\n",
        "    # --- final_rag_chain logic starts here ---\n",
        "\n",
        "    # generate_queries from final_rag_chain\n",
        "    template = \"\"\"You are an AI language model Accounting assistant. Your task is to generate five\n",
        "    different versions of the given user question to retrieve relevant documents from a vector\n",
        "    database. By generating multiple perspectives on the user question, your goal is to help\n",
        "    the user overcome some of the limitations of the distance-based similarity search.\n",
        "    Provide these alternative questions separated by newlines. Original question: {question}\"\"\"\n",
        "    prompt_perspectives = ChatPromptTemplate.from_template(template)\n",
        "\n",
        "    openai_api_key = os.environ[\"OPENAI_API_KEY\"]  # Assuming you have OPENAI_API_KEY set\n",
        "\n",
        "    generate_queries = (\n",
        "        prompt_perspectives\n",
        "        | ChatOpenAI(temperature=0, openai_api_key=openai_api_key)\n",
        "        | StrOutputParser()\n",
        "        | (lambda x: x.split(\"\\n\"))\n",
        "    )\n",
        "\n",
        "    # retriever from final_rag_chain (assuming you have 'vectordb' defined)\n",
        "    retriever = vectordb.as_retriever()\n",
        "\n",
        "    # rank_documents from final_rag_chain\n",
        "    def rank_documents(results: list[list], k=60):\n",
        "        fused_scores = {}\n",
        "        for docs in results:\n",
        "            for rank, doc in enumerate(docs):\n",
        "                doc_str = dumps(doc)\n",
        "                if doc_str not in fused_scores:\n",
        "                    fused_scores[doc_str] = 0\n",
        "                previous_score = fused_scores[doc_str]\n",
        "                fused_scores[doc_str] += 1 / (rank + k)\n",
        "\n",
        "        reranked_results = [\n",
        "            (loads(doc), score)\n",
        "            for doc, score in sorted(fused_scores.items(), key=lambda x: x[1], reverse=True)\n",
        "        ]\n",
        "        return reranked_results\n",
        "\n",
        "    retrieval_chain = generate_queries | retriever.map() | rank_documents\n",
        "\n",
        "    # RAG prompt from final_rag_chain\n",
        "    template = \"\"\"Answer the following question based on this context:\n",
        "\n",
        "    {context}\n",
        "\n",
        "    Question: {question}\n",
        "    \"\"\"\n",
        "    prompt = ChatPromptTemplate.from_template(template)\n",
        "\n",
        "    llm = ChatOpenAI(temperature=0, openai_api_key=openai_api_key)\n",
        "\n",
        "    # final_rag_chain assembled\n",
        "    final_rag_chain = (\n",
        "        {\"context\": retrieval_chain, \"question\": RunnablePassthrough()}\n",
        "        | prompt\n",
        "        | llm\n",
        "        | StrOutputParser()\n",
        "    )\n",
        "\n",
        "    # --- final_rag_chain logic ends here ---\n",
        "\n",
        "    # Invoke final_rag_chain with user_input\n",
        "    response = final_rag_chain.invoke({\"question\": user_input})\n",
        "\n",
        "    # Log the response and potentially other metadata\n",
        "    # ... (your logging logic) ...\n",
        "\n",
        "    return response\n",
        "\n",
        "pipeline(\"Does Uber have the liquidity to meet its working capital and capital expenditures needs.Please explain?\")"
      ],
      "metadata": {
        "id": "YpYeOtGxXdsI",
        "outputId": "66d350f5-2ec0-4fda-9fa9-6f5c9eaefe77",
        "colab": {
          "base_uri": "https://localhost:8080/",
          "height": 127
        }
      },
      "execution_count": 42,
      "outputs": [
        {
          "output_type": "execute_result",
          "data": {
            "text/plain": [
              "\"Based on the provided context, Uber's liquidity can be assessed by looking at its balance sheet. The document mentions the company's assets, including cash and cash equivalents, short-term investments, and other current assets, as well as its liabilities and equity. By analyzing these figures, one can determine if Uber has the necessary liquidity to meet its working capital and capital expenditures needs.\\n\\nSpecifically, the document shows that Uber had cash and cash equivalents of $4,680 million and short-term investments of $727 million as of December 31, 2023. These figures indicate that Uber has a significant amount of liquid assets that could potentially cover its short-term financial obligations and capital expenditures.\\n\\nAdditionally, the total assets of Uber were $38,699 million, while the total liabilities were $32,109 million as of December 31, 2023. This suggests that Uber has a healthy equity position, which could further support its liquidity position.\\n\\nIn conclusion, based on the information provided in the document, Uber appears to have the liquidity to meet its working capital and capital expenditures needs, given its substantial cash reserves and overall financial position.\""
            ],
            "application/vnd.google.colaboratory.intrinsic+json": {
              "type": "string"
            }
          },
          "metadata": {},
          "execution_count": 42
        }
      ]
    },
    {
      "cell_type": "code",
      "source": [
        "dataset_name = \"Uber_10K_2023_v3\""
      ],
      "metadata": {
        "id": "vBmLhupyz0B_"
      },
      "execution_count": 39,
      "outputs": []
    },
    {
      "cell_type": "code",
      "source": [
        "# create dataset\n",
        "from langsmith import Client\n",
        "import os\n",
        "\n",
        "dataset_inputs = [\n",
        "    '1. Can Uber cover its operational and investment expenses with its available funds?',\n",
        " '2. Is Uber financially equipped to handle its day-to-day expenses and long-term investments?',\n",
        " '3. Does Uber possess enough financial resources to support its working capital and capital expenditure requirements?',\n",
        " '4. How well is Uber positioned to meet its financial obligations for both short-term and long-term needs?',\n",
        " '5. Is Uber adequately funded to address its working capital and capital expenditure demands effectively?'\n",
        "]\n",
        "\n",
        "dataset_outputs = [\n",
        "    {\"must_mention\": [\"Uber's total assets were $38,699 million\", \"Additionally, Uber had restricted cash and cash equivalents of $805 million\", \"The company's financial position suggests that it has the resources to cover its short-term obligations and fund its operational requirements.\", \"1\"]},\n",
        "    {\"must_mention\": [\"$12,682 million ($38,699 million - $26,017 million)\", 'global company and as of December 31, 2023, we and our subsidiaries had approximately 30,400 employees globally and operations inapproximately 70 countries and more than 10,000 cities around the world', '$12,682 million ']},\n",
        "    {\"must_mention\": [\"$5,407 million in liquid assets\", 'Freight Gross Bookings declining 25% year-over-year.']}, # reading from a table\n",
        "    {\"must_mention\": [\"The company's financial position suggests that it has the resources to cover its short-term obligations and fund its operational requirements.\"]}, # reading from a table\n",
        "    {\"must_mention\": [\"Uber had cash and cash equivalents of $4,680 million and short-term investments of $727 million\"]}, # reading from a table\n",
        "]\n",
        "\n",
        "# ensure you have this set up\n",
        "from google.colab import userdata\n",
        "os.environ[\"LANGCHAIN_API_KEY\"] = userdata.get('LANGCHAIN_API_KEY')\n",
        "langchain_api_key = os.environ[\"LANGCHAIN_API_KEY\"]\n",
        "\n",
        "client = Client(api_key=langchain_api_key)\n",
        "\n",
        "dataset = client.create_dataset(\n",
        "    dataset_name=dataset_name,\n",
        "    description=\"Uber 10K 2023 questions\",\n",
        ")\n",
        "client.create_examples(\n",
        "    inputs=[{\"question\": q} for q in dataset_inputs],\n",
        "    outputs=dataset_outputs,\n",
        "    dataset_id=dataset.id,\n",
        ")"
      ],
      "metadata": {
        "id": "jZiPRupZojqe",
        "outputId": "db05f5ec-d772-47c0-808a-50f81c41477f",
        "colab": {
          "base_uri": "https://localhost:8080/"
        }
      },
      "execution_count": 40,
      "outputs": [
        {
          "output_type": "execute_result",
          "data": {
            "text/plain": [
              "{'example_ids': ['f5730d2b-453a-4a48-99a3-19d0229a8856',\n",
              "  '766cd441-ebff-4959-a0bf-dadc8ab29fe1',\n",
              "  '7dcce152-93e5-401e-bbe8-887414fc23ee',\n",
              "  'b996ccbc-8af2-407d-8f7c-998529099558',\n",
              "  'aac460dc-5f2c-418e-b854-21410c08bf63'],\n",
              " 'count': 5}"
            ]
          },
          "metadata": {},
          "execution_count": 40
        }
      ]
    },
    {
      "cell_type": "code",
      "execution_count": 41,
      "metadata": {
        "id": "ooYcQV24j-wD",
        "outputId": "65e82aec-dbbe-48b4-bf0f-ae7349daa513",
        "colab": {
          "base_uri": "https://localhost:8080/",
          "height": 122,
          "referenced_widgets": [
            "1f8649442d9148c6be60347556a0c188",
            "c1891292fdc04789b931e51549bef44f",
            "25edd1da3a7c4781b19c09f8886e3265",
            "e2b303b7af0e4a5a833d49fa47f78703",
            "ce39f1acb5624f8287c799823fd72c46",
            "7bf3a6bc64014f67b2345c57b1b75729",
            "91af790bddc04b388f7fa9668d956176",
            "406f2104c1b542ba875c8ab10160453b",
            "d64c737d34374a919558a21bbbd79050",
            "a5c08bbac3bb4eca87ee2e01f8576b69",
            "2550a19d5caa4fcdb46ba1301d3f2323"
          ]
        }
      },
      "outputs": [
        {
          "output_type": "stream",
          "name": "stdout",
          "text": [
            "View the evaluation results for experiment: 'uber10Kv1-617863c0' at:\n",
            "https://smith.langchain.com/o/04de93c6-630e-469d-a203-a695192872ea/datasets/167a3114-4096-4d78-bb2f-ec637be7dcc0/compare?selectedSessions=0beca073-4f3b-4464-9478-1e0c5f148542\n",
            "\n",
            "\n"
          ]
        },
        {
          "output_type": "display_data",
          "data": {
            "text/plain": [
              "0it [00:00, ?it/s]"
            ],
            "application/vnd.jupyter.widget-view+json": {
              "version_major": 2,
              "version_minor": 0,
              "model_id": "1f8649442d9148c6be60347556a0c188"
            }
          },
          "metadata": {}
        }
      ],
      "source": [
        " #run evals in langsmith\n",
        "from langsmith.schemas import Run, Example\n",
        "\n",
        "from langsmith.evaluation import evaluate, LangChainStringEvaluator\n",
        "\n",
        "\n",
        "def must_mention(run: Run, example: Example) -> dict:\n",
        "    prediction = run.outputs.get(\"output\") or \"\"\n",
        "    required = example.outputs.get(\"must_mention\") or []\n",
        "    score = any(phrase in prediction for phrase in required)\n",
        "    return {\"key\":\"must_mention\", \"score\": score}\n",
        "\n",
        "evaluators = [\n",
        "  must_mention,\n",
        "]\n",
        "runner = final_rag_chain\n",
        "def query_wrapper(query_dict):\n",
        "    query_string = query_dict['question']\n",
        "    response = runner.invoke(query_string)\n",
        "    return {\"output\": response}\n",
        "\n",
        "experiment_results = evaluate(\n",
        "    query_wrapper,\n",
        "    data=dataset_name,\n",
        "    evaluators=evaluators,\n",
        "    experiment_prefix=\"uber10Kv1\",\n",
        "    client=client,\n",
        ")"
      ]
    },
    {
      "cell_type": "code",
      "source": [
        "!pip install -U langchain langchain-openai"
      ],
      "metadata": {
        "id": "wmWTVN3CivKH"
      },
      "execution_count": null,
      "outputs": []
    },
    {
      "cell_type": "code",
      "source": [
        "from langchain_openai import ChatOpenAI\n",
        "\n",
        "llm = ChatOpenAI()\n",
        "llm.invoke(\"Hello, world!\")"
      ],
      "metadata": {
        "id": "u5_e9v_GkMcY"
      },
      "execution_count": null,
      "outputs": []
    }
  ],
  "metadata": {
    "colab": {
      "provenance": [],
      "include_colab_link": true
    },
    "kernelspec": {
      "display_name": "Python 3",
      "name": "python3"
    },
    "language_info": {
      "name": "python"
    },
    "widgets": {
      "application/vnd.jupyter.widget-state+json": {
        "1f8649442d9148c6be60347556a0c188": {
          "model_module": "@jupyter-widgets/controls",
          "model_name": "HBoxModel",
          "model_module_version": "1.5.0",
          "state": {
            "_dom_classes": [],
            "_model_module": "@jupyter-widgets/controls",
            "_model_module_version": "1.5.0",
            "_model_name": "HBoxModel",
            "_view_count": null,
            "_view_module": "@jupyter-widgets/controls",
            "_view_module_version": "1.5.0",
            "_view_name": "HBoxView",
            "box_style": "",
            "children": [
              "IPY_MODEL_c1891292fdc04789b931e51549bef44f",
              "IPY_MODEL_25edd1da3a7c4781b19c09f8886e3265",
              "IPY_MODEL_e2b303b7af0e4a5a833d49fa47f78703"
            ],
            "layout": "IPY_MODEL_ce39f1acb5624f8287c799823fd72c46"
          }
        },
        "c1891292fdc04789b931e51549bef44f": {
          "model_module": "@jupyter-widgets/controls",
          "model_name": "HTMLModel",
          "model_module_version": "1.5.0",
          "state": {
            "_dom_classes": [],
            "_model_module": "@jupyter-widgets/controls",
            "_model_module_version": "1.5.0",
            "_model_name": "HTMLModel",
            "_view_count": null,
            "_view_module": "@jupyter-widgets/controls",
            "_view_module_version": "1.5.0",
            "_view_name": "HTMLView",
            "description": "",
            "description_tooltip": null,
            "layout": "IPY_MODEL_7bf3a6bc64014f67b2345c57b1b75729",
            "placeholder": "​",
            "style": "IPY_MODEL_91af790bddc04b388f7fa9668d956176",
            "value": ""
          }
        },
        "25edd1da3a7c4781b19c09f8886e3265": {
          "model_module": "@jupyter-widgets/controls",
          "model_name": "FloatProgressModel",
          "model_module_version": "1.5.0",
          "state": {
            "_dom_classes": [],
            "_model_module": "@jupyter-widgets/controls",
            "_model_module_version": "1.5.0",
            "_model_name": "FloatProgressModel",
            "_view_count": null,
            "_view_module": "@jupyter-widgets/controls",
            "_view_module_version": "1.5.0",
            "_view_name": "ProgressView",
            "bar_style": "success",
            "description": "",
            "description_tooltip": null,
            "layout": "IPY_MODEL_406f2104c1b542ba875c8ab10160453b",
            "max": 1,
            "min": 0,
            "orientation": "horizontal",
            "style": "IPY_MODEL_d64c737d34374a919558a21bbbd79050",
            "value": 1
          }
        },
        "e2b303b7af0e4a5a833d49fa47f78703": {
          "model_module": "@jupyter-widgets/controls",
          "model_name": "HTMLModel",
          "model_module_version": "1.5.0",
          "state": {
            "_dom_classes": [],
            "_model_module": "@jupyter-widgets/controls",
            "_model_module_version": "1.5.0",
            "_model_name": "HTMLModel",
            "_view_count": null,
            "_view_module": "@jupyter-widgets/controls",
            "_view_module_version": "1.5.0",
            "_view_name": "HTMLView",
            "description": "",
            "description_tooltip": null,
            "layout": "IPY_MODEL_a5c08bbac3bb4eca87ee2e01f8576b69",
            "placeholder": "​",
            "style": "IPY_MODEL_2550a19d5caa4fcdb46ba1301d3f2323",
            "value": " 5/? [00:23&lt;00:00,  4.62s/it]"
          }
        },
        "ce39f1acb5624f8287c799823fd72c46": {
          "model_module": "@jupyter-widgets/base",
          "model_name": "LayoutModel",
          "model_module_version": "1.2.0",
          "state": {
            "_model_module": "@jupyter-widgets/base",
            "_model_module_version": "1.2.0",
            "_model_name": "LayoutModel",
            "_view_count": null,
            "_view_module": "@jupyter-widgets/base",
            "_view_module_version": "1.2.0",
            "_view_name": "LayoutView",
            "align_content": null,
            "align_items": null,
            "align_self": null,
            "border": null,
            "bottom": null,
            "display": null,
            "flex": null,
            "flex_flow": null,
            "grid_area": null,
            "grid_auto_columns": null,
            "grid_auto_flow": null,
            "grid_auto_rows": null,
            "grid_column": null,
            "grid_gap": null,
            "grid_row": null,
            "grid_template_areas": null,
            "grid_template_columns": null,
            "grid_template_rows": null,
            "height": null,
            "justify_content": null,
            "justify_items": null,
            "left": null,
            "margin": null,
            "max_height": null,
            "max_width": null,
            "min_height": null,
            "min_width": null,
            "object_fit": null,
            "object_position": null,
            "order": null,
            "overflow": null,
            "overflow_x": null,
            "overflow_y": null,
            "padding": null,
            "right": null,
            "top": null,
            "visibility": null,
            "width": null
          }
        },
        "7bf3a6bc64014f67b2345c57b1b75729": {
          "model_module": "@jupyter-widgets/base",
          "model_name": "LayoutModel",
          "model_module_version": "1.2.0",
          "state": {
            "_model_module": "@jupyter-widgets/base",
            "_model_module_version": "1.2.0",
            "_model_name": "LayoutModel",
            "_view_count": null,
            "_view_module": "@jupyter-widgets/base",
            "_view_module_version": "1.2.0",
            "_view_name": "LayoutView",
            "align_content": null,
            "align_items": null,
            "align_self": null,
            "border": null,
            "bottom": null,
            "display": null,
            "flex": null,
            "flex_flow": null,
            "grid_area": null,
            "grid_auto_columns": null,
            "grid_auto_flow": null,
            "grid_auto_rows": null,
            "grid_column": null,
            "grid_gap": null,
            "grid_row": null,
            "grid_template_areas": null,
            "grid_template_columns": null,
            "grid_template_rows": null,
            "height": null,
            "justify_content": null,
            "justify_items": null,
            "left": null,
            "margin": null,
            "max_height": null,
            "max_width": null,
            "min_height": null,
            "min_width": null,
            "object_fit": null,
            "object_position": null,
            "order": null,
            "overflow": null,
            "overflow_x": null,
            "overflow_y": null,
            "padding": null,
            "right": null,
            "top": null,
            "visibility": null,
            "width": null
          }
        },
        "91af790bddc04b388f7fa9668d956176": {
          "model_module": "@jupyter-widgets/controls",
          "model_name": "DescriptionStyleModel",
          "model_module_version": "1.5.0",
          "state": {
            "_model_module": "@jupyter-widgets/controls",
            "_model_module_version": "1.5.0",
            "_model_name": "DescriptionStyleModel",
            "_view_count": null,
            "_view_module": "@jupyter-widgets/base",
            "_view_module_version": "1.2.0",
            "_view_name": "StyleView",
            "description_width": ""
          }
        },
        "406f2104c1b542ba875c8ab10160453b": {
          "model_module": "@jupyter-widgets/base",
          "model_name": "LayoutModel",
          "model_module_version": "1.2.0",
          "state": {
            "_model_module": "@jupyter-widgets/base",
            "_model_module_version": "1.2.0",
            "_model_name": "LayoutModel",
            "_view_count": null,
            "_view_module": "@jupyter-widgets/base",
            "_view_module_version": "1.2.0",
            "_view_name": "LayoutView",
            "align_content": null,
            "align_items": null,
            "align_self": null,
            "border": null,
            "bottom": null,
            "display": null,
            "flex": null,
            "flex_flow": null,
            "grid_area": null,
            "grid_auto_columns": null,
            "grid_auto_flow": null,
            "grid_auto_rows": null,
            "grid_column": null,
            "grid_gap": null,
            "grid_row": null,
            "grid_template_areas": null,
            "grid_template_columns": null,
            "grid_template_rows": null,
            "height": null,
            "justify_content": null,
            "justify_items": null,
            "left": null,
            "margin": null,
            "max_height": null,
            "max_width": null,
            "min_height": null,
            "min_width": null,
            "object_fit": null,
            "object_position": null,
            "order": null,
            "overflow": null,
            "overflow_x": null,
            "overflow_y": null,
            "padding": null,
            "right": null,
            "top": null,
            "visibility": null,
            "width": "20px"
          }
        },
        "d64c737d34374a919558a21bbbd79050": {
          "model_module": "@jupyter-widgets/controls",
          "model_name": "ProgressStyleModel",
          "model_module_version": "1.5.0",
          "state": {
            "_model_module": "@jupyter-widgets/controls",
            "_model_module_version": "1.5.0",
            "_model_name": "ProgressStyleModel",
            "_view_count": null,
            "_view_module": "@jupyter-widgets/base",
            "_view_module_version": "1.2.0",
            "_view_name": "StyleView",
            "bar_color": null,
            "description_width": ""
          }
        },
        "a5c08bbac3bb4eca87ee2e01f8576b69": {
          "model_module": "@jupyter-widgets/base",
          "model_name": "LayoutModel",
          "model_module_version": "1.2.0",
          "state": {
            "_model_module": "@jupyter-widgets/base",
            "_model_module_version": "1.2.0",
            "_model_name": "LayoutModel",
            "_view_count": null,
            "_view_module": "@jupyter-widgets/base",
            "_view_module_version": "1.2.0",
            "_view_name": "LayoutView",
            "align_content": null,
            "align_items": null,
            "align_self": null,
            "border": null,
            "bottom": null,
            "display": null,
            "flex": null,
            "flex_flow": null,
            "grid_area": null,
            "grid_auto_columns": null,
            "grid_auto_flow": null,
            "grid_auto_rows": null,
            "grid_column": null,
            "grid_gap": null,
            "grid_row": null,
            "grid_template_areas": null,
            "grid_template_columns": null,
            "grid_template_rows": null,
            "height": null,
            "justify_content": null,
            "justify_items": null,
            "left": null,
            "margin": null,
            "max_height": null,
            "max_width": null,
            "min_height": null,
            "min_width": null,
            "object_fit": null,
            "object_position": null,
            "order": null,
            "overflow": null,
            "overflow_x": null,
            "overflow_y": null,
            "padding": null,
            "right": null,
            "top": null,
            "visibility": null,
            "width": null
          }
        },
        "2550a19d5caa4fcdb46ba1301d3f2323": {
          "model_module": "@jupyter-widgets/controls",
          "model_name": "DescriptionStyleModel",
          "model_module_version": "1.5.0",
          "state": {
            "_model_module": "@jupyter-widgets/controls",
            "_model_module_version": "1.5.0",
            "_model_name": "DescriptionStyleModel",
            "_view_count": null,
            "_view_module": "@jupyter-widgets/base",
            "_view_module_version": "1.2.0",
            "_view_name": "StyleView",
            "description_width": ""
          }
        }
      }
    }
  },
  "nbformat": 4,
  "nbformat_minor": 0
}